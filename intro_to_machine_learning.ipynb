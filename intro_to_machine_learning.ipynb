{
  "nbformat": 4,
  "nbformat_minor": 0,
  "metadata": {
    "colab": {
      "provenance": [],
      "gpuType": "T4",
      "authorship_tag": "ABX9TyPM32obPO6BYoLb9pUnBosT",
      "include_colab_link": true
    },
    "kernelspec": {
      "name": "python3",
      "display_name": "Python 3"
    },
    "language_info": {
      "name": "python"
    },
    "accelerator": "GPU"
  },
  "cells": [
    {
      "cell_type": "markdown",
      "metadata": {
        "id": "view-in-github",
        "colab_type": "text"
      },
      "source": [
        "<a href=\"https://colab.research.google.com/github/Deepanshu-Malakar/Deepanshu-Malakar/blob/main/intro_to_machine_learning.ipynb\" target=\"_parent\"><img src=\"https://colab.research.google.com/assets/colab-badge.svg\" alt=\"Open In Colab\"/></a>"
      ]
    },
    {
      "cell_type": "code",
      "execution_count": 4,
      "metadata": {
        "id": "LKFqO6Wd0ONB",
        "colab": {
          "base_uri": "https://localhost:8080/"
        },
        "outputId": "c73101b8-5505-4e71-879b-d2c61394d00f"
      },
      "outputs": [
        {
          "output_type": "stream",
          "name": "stdout",
          "text": [
            "2.4.0+cu121\n"
          ]
        }
      ],
      "source": [
        "import torch\n",
        "import numpy as np\n",
        "import pandas as pd\n",
        "import matplotlib.pyplot as plt\n",
        "print(torch.__version__)\n",
        "\n"
      ]
    },
    {
      "cell_type": "code",
      "source": [
        "#introduction\n",
        "scalar=torch.tensor(7)\n",
        "print(scalar)"
      ],
      "metadata": {
        "colab": {
          "base_uri": "https://localhost:8080/"
        },
        "id": "RmOjq1NN00O3",
        "outputId": "258e4935-901e-42bd-808a-37d66368b29c"
      },
      "execution_count": 3,
      "outputs": [
        {
          "output_type": "stream",
          "name": "stdout",
          "text": [
            "tensor(7)\n"
          ]
        }
      ]
    },
    {
      "cell_type": "markdown",
      "source": [
        "Properties of Scalars"
      ],
      "metadata": {
        "id": "uhVrfox7auLH"
      }
    },
    {
      "cell_type": "code",
      "source": [
        "#to get dimension of tensor\n",
        "print(\"dimension of scalar is :\",scalar.ndim)\n",
        "#to get tensor back as integer\n",
        "print(\"value of scalar is: \",scalar.item())"
      ],
      "metadata": {
        "id": "9MXNiSNw1INc",
        "colab": {
          "base_uri": "https://localhost:8080/"
        },
        "outputId": "a59e1fde-a6bb-4080-bef5-d45886182177"
      },
      "execution_count": 4,
      "outputs": [
        {
          "output_type": "stream",
          "name": "stdout",
          "text": [
            "dimension of scalar is : 0\n",
            "value of scalar is:  7\n"
          ]
        }
      ]
    },
    {
      "cell_type": "markdown",
      "source": [
        "vector"
      ],
      "metadata": {
        "id": "qTa3yY0ub60m"
      }
    },
    {
      "cell_type": "code",
      "source": [
        "vector=torch.tensor([7,7])\n",
        "print(vector)\n",
        "print(\"dimension of vector :\",vector.ndim)\n",
        "print(\"shape of vector : \",vector.shape)\n",
        "vector2=torch.tensor([[2,4,3],\n",
        "                     [4,5,3]])\n",
        "print(vector2)\n",
        "print(\"dimension of vector2 :\",vector2.ndim)\n",
        "print(\"shape of vector2 : \",vector2.shape)"
      ],
      "metadata": {
        "colab": {
          "base_uri": "https://localhost:8080/"
        },
        "id": "oMO73v7Qb5jP",
        "outputId": "95ff2c1b-5948-413a-81d1-115e6d830b2a"
      },
      "execution_count": 5,
      "outputs": [
        {
          "output_type": "stream",
          "name": "stdout",
          "text": [
            "tensor([7, 7])\n",
            "dimension of vector : 1\n",
            "shape of vector :  torch.Size([2])\n",
            "tensor([[2, 4, 3],\n",
            "        [4, 5, 3]])\n",
            "dimension of vector2 : 2\n",
            "shape of vector2 :  torch.Size([2, 3])\n"
          ]
        }
      ]
    },
    {
      "cell_type": "markdown",
      "source": [
        "Random tensors\n"
      ],
      "metadata": {
        "id": "ZMerzKtuRX0M"
      }
    },
    {
      "cell_type": "code",
      "source": [
        "random_tensor = torch.rand(4,3,3)\n",
        "print(random_tensor)"
      ],
      "metadata": {
        "colab": {
          "base_uri": "https://localhost:8080/"
        },
        "id": "t8AaiY2zRXLk",
        "outputId": "1773a5d7-bfb8-4c5f-b5da-fca31b856802"
      },
      "execution_count": 6,
      "outputs": [
        {
          "output_type": "stream",
          "name": "stdout",
          "text": [
            "tensor([[[0.0287, 0.6924, 0.7679],\n",
            "         [0.5430, 0.1697, 0.6355],\n",
            "         [0.9395, 0.5599, 0.1460]],\n",
            "\n",
            "        [[0.4752, 0.2467, 0.5950],\n",
            "         [0.0485, 0.6666, 0.1551],\n",
            "         [0.2903, 0.3194, 0.6047]],\n",
            "\n",
            "        [[0.3578, 0.2227, 0.8046],\n",
            "         [0.1079, 0.3525, 0.6358],\n",
            "         [0.0199, 0.3903, 0.3667]],\n",
            "\n",
            "        [[0.7255, 0.9801, 0.5309],\n",
            "         [0.3363, 0.0554, 0.5704],\n",
            "         [0.4259, 0.3452, 0.2257]]])\n"
          ]
        }
      ]
    },
    {
      "cell_type": "markdown",
      "source": [
        "Image tensor"
      ],
      "metadata": {
        "id": "LJrKtZziTDjW"
      }
    },
    {
      "cell_type": "code",
      "source": [
        "random_image_tensor=torch.rand(size=(224,224,3)) #height width color_channels(rgb)\n",
        "print(\"shape: \",random_image_tensor.shape)\n",
        "print(\"dimension: \",random_image_tensor.ndim)"
      ],
      "metadata": {
        "colab": {
          "base_uri": "https://localhost:8080/"
        },
        "id": "iEunC9EfTG-C",
        "outputId": "b3859cbc-2602-4219-b08f-4025c99e9058"
      },
      "execution_count": 7,
      "outputs": [
        {
          "output_type": "stream",
          "name": "stdout",
          "text": [
            "shape:  torch.Size([224, 224, 3])\n",
            "dimension:  3\n"
          ]
        }
      ]
    },
    {
      "cell_type": "markdown",
      "source": [
        "**Zeroes and Ones**"
      ],
      "metadata": {
        "id": "xSHn9i1TUeba"
      }
    },
    {
      "cell_type": "code",
      "source": [
        "zeroes=torch.zeros(3,4)\n",
        "ones=torch.ones(3,4)\n",
        "print(zeroes)\n",
        "print(\"\\n\")\n",
        "print(ones)\n"
      ],
      "metadata": {
        "colab": {
          "base_uri": "https://localhost:8080/"
        },
        "id": "X-moz0JuUdth",
        "outputId": "751fa676-94e0-45d2-ce41-b68524087632"
      },
      "execution_count": 8,
      "outputs": [
        {
          "output_type": "stream",
          "name": "stdout",
          "text": [
            "tensor([[0., 0., 0., 0.],\n",
            "        [0., 0., 0., 0.],\n",
            "        [0., 0., 0., 0.]])\n",
            "\n",
            "\n",
            "tensor([[1., 1., 1., 1.],\n",
            "        [1., 1., 1., 1.],\n",
            "        [1., 1., 1., 1.]])\n"
          ]
        }
      ]
    },
    {
      "cell_type": "markdown",
      "source": [
        "Creating Range of tensors"
      ],
      "metadata": {
        "id": "-XKP60YVV1aG"
      }
    },
    {
      "cell_type": "code",
      "source": [
        "#use torch.arange(start,end,step)   creates an AP with a=start an=end d=step\n",
        "#  doesnot include the end element\n",
        "range1=torch.arange(start=1,end=21,step=2)\n",
        "print(range1)\n",
        "range2=torch.arange(start=5,end=32,step=4)\n",
        "print(range2)"
      ],
      "metadata": {
        "colab": {
          "base_uri": "https://localhost:8080/"
        },
        "id": "ouv7ipUvV02j",
        "outputId": "32c5dfa9-824b-4b8a-b979-bb2387a1f953"
      },
      "execution_count": 9,
      "outputs": [
        {
          "output_type": "stream",
          "name": "stdout",
          "text": [
            "tensor([ 1,  3,  5,  7,  9, 11, 13, 15, 17, 19])\n",
            "tensor([ 5,  9, 13, 17, 21, 25, 29])\n"
          ]
        }
      ]
    },
    {
      "cell_type": "markdown",
      "source": [
        "Tensors like (creating a tensor with same shape like another tensor)"
      ],
      "metadata": {
        "id": "f4JWoFX4XQhf"
      }
    },
    {
      "cell_type": "code",
      "source": [
        "tensor_like=torch.rand_like(input=random_tensor)\n",
        "print(tensor_like)"
      ],
      "metadata": {
        "colab": {
          "base_uri": "https://localhost:8080/"
        },
        "id": "at0mecvdXZx5",
        "outputId": "19151f05-1a28-4a4b-822f-4d809737d91b"
      },
      "execution_count": 10,
      "outputs": [
        {
          "output_type": "stream",
          "name": "stdout",
          "text": [
            "tensor([[[0.1300, 0.7365, 0.1635],\n",
            "         [0.3754, 0.9372, 0.3068],\n",
            "         [0.3763, 0.5386, 0.4554]],\n",
            "\n",
            "        [[0.6275, 0.7632, 0.1902],\n",
            "         [0.8192, 0.2178, 0.0319],\n",
            "         [0.6284, 0.9733, 0.2281]],\n",
            "\n",
            "        [[0.2361, 0.6958, 0.2677],\n",
            "         [0.1398, 0.3941, 0.9223],\n",
            "         [0.7603, 0.9117, 0.1485]],\n",
            "\n",
            "        [[0.2584, 0.1958, 0.1128],\n",
            "         [0.7975, 0.1086, 0.0119],\n",
            "         [0.5633, 0.2862, 0.6784]]])\n"
          ]
        }
      ]
    },
    {
      "cell_type": "markdown",
      "source": [
        "**Getting Information from tensors**\n",
        "1)Tensor Manupulation *(Tensor operations)*"
      ],
      "metadata": {
        "id": "WakUwtKJ_2Ke"
      }
    },
    {
      "cell_type": "code",
      "source": [
        "t=torch.tensor([1,2,3,4])\n",
        "print(\"tensor: \",t)\n",
        "print(\"tensor + 1: \",t+1)\n",
        "print(\"tensor - 1: \",t-1)\n",
        "print(\"tensor * 10: \",t*10)\n",
        "print(\"tensor / 10: \",t/10)\n"
      ],
      "metadata": {
        "colab": {
          "base_uri": "https://localhost:8080/"
        },
        "id": "W9XYw6aT_7Mk",
        "outputId": "b3a9064c-24b9-4b60-8ba9-d2d8990d5a61"
      },
      "execution_count": 11,
      "outputs": [
        {
          "output_type": "stream",
          "name": "stdout",
          "text": [
            "tensor:  tensor([1, 2, 3, 4])\n",
            "tensor + 1:  tensor([2, 3, 4, 5])\n",
            "tensor - 1:  tensor([0, 1, 2, 3])\n",
            "tensor * 10:  tensor([10, 20, 30, 40])\n",
            "tensor / 10:  tensor([0.1000, 0.2000, 0.3000, 0.4000])\n"
          ]
        }
      ]
    },
    {
      "cell_type": "markdown",
      "source": [
        "Matrix Multiplication"
      ],
      "metadata": {
        "id": "S-O6RFt-CRbP"
      }
    },
    {
      "cell_type": "code",
      "source": [
        "#element wise matrix multiplication\n",
        "tensor1=torch.tensor([1,2,3])\n",
        "tensor2=torch.tensor([4,5,6])\n",
        "print(f\"{tensor1}*{tensor2}={tensor1*tensor2}\")\n"
      ],
      "metadata": {
        "colab": {
          "base_uri": "https://localhost:8080/"
        },
        "id": "E7KQTQL7CUut",
        "outputId": "eb21c057-f927-4742-b692-4d6f386fe73a"
      },
      "execution_count": 5,
      "outputs": [
        {
          "output_type": "stream",
          "name": "stdout",
          "text": [
            "tensor([1, 2, 3])*tensor([4, 5, 6])=tensor([ 4, 10, 18])\n"
          ]
        }
      ]
    },
    {
      "cell_type": "markdown",
      "source": [
        "Dot product of tensors"
      ],
      "metadata": {
        "id": "K9acs_2nI09m"
      }
    },
    {
      "cell_type": "code",
      "source": [
        "print(tensor1.matmul(tensor2))\n",
        "print(\"note that 32=4+10+18\")"
      ],
      "metadata": {
        "colab": {
          "base_uri": "https://localhost:8080/"
        },
        "id": "7FSlHpuWI400",
        "outputId": "6c42bf4a-0b00-473e-b84e-2988c4f07dde"
      },
      "execution_count": 7,
      "outputs": [
        {
          "output_type": "stream",
          "name": "stdout",
          "text": [
            "tensor(32)\n",
            "note that 32=4+10+18\n"
          ]
        }
      ]
    },
    {
      "cell_type": "code",
      "source": [
        "tensor1=torch.randint(low=0,high=5,size=(2,3))\n",
        "tensor2=torch.randint(low=0,high=5,size=(3,4))\n",
        "print(\"tensor1:\")\n",
        "print(tensor1)\n",
        "print(\"tensor2:\")\n",
        "print(tensor2)\n",
        "print(f\"tensor1 x tensor2 =\\n{tensor1.matmul(tensor2)}\")"
      ],
      "metadata": {
        "colab": {
          "base_uri": "https://localhost:8080/"
        },
        "id": "zCclFlNeJXia",
        "outputId": "51e91ed8-46e7-4304-f7e3-8aa57aace90b"
      },
      "execution_count": 13,
      "outputs": [
        {
          "output_type": "stream",
          "name": "stdout",
          "text": [
            "tensor1:\n",
            "tensor([[0, 3, 3],\n",
            "        [0, 3, 1]])\n",
            "tensor2:\n",
            "tensor([[3, 3, 3, 4],\n",
            "        [0, 0, 2, 1],\n",
            "        [4, 3, 4, 4]])\n",
            "tensor1 x tensor2 =\n",
            "tensor([[12,  9, 18, 15],\n",
            "        [ 4,  3, 10,  7]])\n"
          ]
        }
      ]
    }
  ]
}